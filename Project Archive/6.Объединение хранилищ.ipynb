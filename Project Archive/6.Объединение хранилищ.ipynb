{
 "cells": [
  {
   "cell_type": "code",
   "execution_count": null,
   "id": "3d6e1cf5-84aa-4a19-929c-602fa0eb49aa",
   "metadata": {},
   "outputs": [],
   "source": [
    "# В этом ноутбуке векторные хранилища объединяются по двойкам, тройкам и т.д."
   ]
  },
  {
   "cell_type": "code",
   "execution_count": null,
   "id": "7acf62ab-8973-473b-a065-e2b2bb156595",
   "metadata": {
    "tags": []
   },
   "outputs": [],
   "source": [
    "%pip install yandex_chain \n",
    "%pip install -U langchain-community\n",
    "%pip install faiss-cpu"
   ]
  },
  {
   "cell_type": "code",
   "execution_count": 8,
   "id": "040f126d-89be-48a0-b66c-2bee48cc438b",
   "metadata": {
    "execution": {
     "iopub.execute_input": "2024-06-13T08:01:31.263176Z",
     "iopub.status.busy": "2024-06-13T08:01:31.261969Z",
     "iopub.status.idle": "2024-06-13T08:01:34.315356Z",
     "shell.execute_reply": "2024-06-13T08:01:34.314684Z",
     "shell.execute_reply.started": "2024-06-13T08:01:31.263138Z"
    },
    "tags": []
   },
   "outputs": [
    {
     "name": "stdin",
     "output_type": "stream",
     "text": [
      "Введите число от 1 до 4:  4\n"
     ]
    },
    {
     "name": "stdout",
     "output_type": "stream",
     "text": [
      "pkl_files_subset ['faiss_2016_index.pkl', 'faiss_2017_index.pkl', 'faiss_2019_index.pkl', 'faiss_2022_index.pkl', 'faiss_2023_index.pkl']\n",
      "index_files_subset ['faiss_2016_index.index', 'faiss_2017_index.index', 'faiss_2019_index.index', 'faiss_2022_index.index', 'faiss_2023_index.index']\n",
      "Объединенный pkl индекс сохранен в файл combined_4_index.pkl\n",
      "Объединенный индекс сохранен в файл combined_4_index.index\n"
     ]
    }
   ],
   "source": [
    "import faiss\n",
    "import pickle\n",
    "\n",
    "pkl_files = [\n",
    "    'faiss_2016_index.pkl',\n",
    "    'faiss_2017_index.pkl',\n",
    "    'faiss_2019_index.pkl',\n",
    "    'faiss_2022_index.pkl',\n",
    "    'faiss_2023_index.pkl'\n",
    "]\n",
    "index_files = [\n",
    "    'faiss_2016_index.index',\n",
    "    'faiss_2017_index.index',\n",
    "    'faiss_2019_index.index',\n",
    "    'faiss_2022_index.index',\n",
    "    'faiss_2023_index.index'\n",
    "] \n",
    "\n",
    "# Функция для загрузки индекса из pickle файла\n",
    "def load_index_from_pkl(filepath):\n",
    "    with open(filepath, 'rb') as f:\n",
    "        index = pickle.load(f)\n",
    "    return index\n",
    "\n",
    "# Пользовательский ввод\n",
    "n = int(input(\"Введите число от 1 до 4: \"))  # 1 означает индекс, по который нужно отобрать названия хранилищ\n",
    "\n",
    "# Отбор имен хранилищь\n",
    "pkl_files_subset = pkl_files[:n+1]\n",
    "print('pkl_files_subset', pkl_files_subset)\n",
    "index_files_subset = index_files[:n+1]\n",
    "print('index_files_subset', index_files_subset)\n",
    "\n",
    "# Конкатенация pkl файлов\n",
    "if pkl_files_subset:\n",
    "    combined_pkl = load_index_from_pkl(pkl_files_subset[0])\n",
    "    for pkl_file in pkl_files_subset[1:]:\n",
    "        index = load_index_from_pkl(pkl_file)\n",
    "        combined_pkl.merge_from(index)\n",
    "\n",
    "    # Сохранение объединенного pkl индекса в файл\n",
    "    combined_pkl_file = f'combined_{n}_index.pkl'\n",
    "    with open(combined_pkl_file, 'wb') as f:\n",
    "        pickle.dump(combined_pkl, f)\n",
    "    print(f'Объединенный pkl индекс сохранен в файл {combined_pkl_file}')\n",
    "\n",
    "# Конкатенация файлов с индексами\n",
    "if index_files_subset:\n",
    "    index1 = faiss.read_index(index_files_subset[0])\n",
    "    for index_file in index_files_subset[1:]:\n",
    "        index2 = faiss.read_index(index_file)\n",
    "        index1.merge_from(index2)\n",
    "\n",
    "    # Сохранение объединенного индекса в файл\n",
    "    combined_index_file = f'combined_{n}_index.index'\n",
    "    faiss.write_index(index1, combined_index_file)\n",
    "    print(f'Объединенный индекс сохранен в файл {combined_index_file}')\n",
    "\n"
   ]
  },
  {
   "cell_type": "code",
   "execution_count": 9,
   "id": "01c31404-e176-4f38-9804-15cddb154cd6",
   "metadata": {
    "execution": {
     "iopub.execute_input": "2024-06-13T05:26:38.363825Z",
     "iopub.status.busy": "2024-06-13T05:26:38.362937Z",
     "iopub.status.idle": "2024-06-13T05:26:38.379763Z",
     "shell.execute_reply": "2024-06-13T05:26:38.379146Z",
     "shell.execute_reply.started": "2024-06-13T05:26:38.363789Z"
    },
    "tags": []
   },
   "outputs": [],
   "source": [
    "# для наглядности, как задается ретривер \n",
    "# в зависимости от n (года, который ввел пользователь, а для программы - числа от 0 до 4)\n",
    "\n",
    "def load_retriever(n):\n",
    "    # Определение имен файлов для загрузки\n",
    "    if n == 0:\n",
    "        combined_index_file = 'faiss_2016_index.index'\n",
    "        combined_pkl_file = 'faiss_2016_index.pkl'\n",
    "    else:\n",
    "        combined_index_file = f'combined_{n}_index.index'\n",
    "        combined_pkl_file = f'combined_{n}_index.pkl'\n",
    "    \n",
    "    # Загрузка индекса из файла\n",
    "    index = faiss.read_index(combined_index_file)\n",
    "\n",
    "    # Загрузка метаданных\n",
    "    with open(combined_pkl_file, \"rb\") as f:\n",
    "        vectorstore = pickle.load(f)\n",
    "\n",
    "    # Обновление индекса в загруженном векторном хранилище\n",
    "    vectorstore.index = index\n",
    "\n",
    "    # Создание и возврат retriever\n",
    "    return vectorstore.as_retriever()\n",
    "\n",
    "retriever = load_retriever(n)\n"
   ]
  }
 ],
 "metadata": {
  "kernelspec": {
   "display_name": "DataSphere Kernel",
   "language": "python",
   "name": "python3"
  },
  "language_info": {
   "codemirror_mode": {
    "name": "ipython",
    "version": 3
   },
   "file_extension": ".py",
   "mimetype": "text/x-python",
   "name": "python",
   "nbconvert_exporter": "python",
   "pygments_lexer": "ipython3",
   "version": "3.10.12"
  }
 },
 "nbformat": 4,
 "nbformat_minor": 5
}
