{
 "cells": [
  {
   "cell_type": "code",
   "execution_count": 3,
   "id": "8b63db9a-16fb-4e06-9f52-1582bd3489af",
   "metadata": {
    "execution": {
     "iopub.execute_input": "2024-06-14T07:07:46.232880Z",
     "iopub.status.busy": "2024-06-14T07:07:46.231731Z",
     "iopub.status.idle": "2024-06-14T07:07:48.397087Z",
     "shell.execute_reply": "2024-06-14T07:07:48.396366Z",
     "shell.execute_reply.started": "2024-06-14T07:07:46.232837Z"
    },
    "tags": []
   },
   "outputs": [
    {
     "name": "stdout",
     "output_type": "stream",
     "text": [
      "Оригинальный DataFrame:\n",
      "108732\n",
      "DataFrame без строк, у которых есть дубликаты по столбцу 'text':\n",
      "108430\n"
     ]
    }
   ],
   "source": [
    "import pandas as pd\n",
    "\n",
    "# Пример DataFrame\n",
    "df = pd.read_csv('/home/jupyter/datasphere/project/ja_ready_data.csv')\n",
    "\n",
    "# Найдем строки с дубликатами по столбцу 'text'\n",
    "df_unique = df.drop_duplicates(subset=['text'], keep='first')\n",
    "\n",
    "print(\"Оригинальный DataFrame:\")\n",
    "print(len(df))\n",
    "\n",
    "print(\"DataFrame без строк, у которых есть дубликаты по столбцу 'text':\")\n",
    "print(len(df_unique))"
   ]
  },
  {
   "cell_type": "code",
   "execution_count": 5,
   "id": "5a1f57b2-2edf-40fc-85a2-94d5ab810807",
   "metadata": {
    "execution": {
     "iopub.execute_input": "2024-06-14T07:08:19.387638Z",
     "iopub.status.busy": "2024-06-14T07:08:19.386652Z",
     "iopub.status.idle": "2024-06-14T07:08:19.458809Z",
     "shell.execute_reply": "2024-06-14T07:08:19.458030Z",
     "shell.execute_reply.started": "2024-06-14T07:08:19.387599Z"
    },
    "tags": []
   },
   "outputs": [
    {
     "name": "stdout",
     "output_type": "stream",
     "text": [
      "До удаления коротких: 108430\n",
      "После: 108210\n"
     ]
    }
   ],
   "source": [
    "def char_count(text):\n",
    "    if isinstance(text, str):\n",
    "        return len(text)\n",
    "    else:\n",
    "        return 0 \n",
    "ddd = df_unique.copy()\n",
    "\n",
    "ddd.loc[:, 'char_count'] = ddd['text'].apply(char_count)\n",
    "\n",
    "# Находим тексты короче 20 символов\n",
    "short_texts = ddd[ddd['char_count'] < 20]\n",
    "\n",
    "# Сохраняем их индексы\n",
    "short_texts_indices = short_texts.index.tolist()\n",
    "\n",
    "# Удаляем\n",
    "ddd = ddd.drop(index=short_texts_indices)\n",
    "\n",
    "print(\"До удаления коротких:\", len(df_unique))\n",
    "print(\"После:\", len(ddd))"
   ]
  },
  {
   "cell_type": "code",
   "execution_count": 6,
   "id": "451ce842-349a-4002-96b9-e338f85d769f",
   "metadata": {
    "execution": {
     "iopub.execute_input": "2024-06-14T07:08:26.034580Z",
     "iopub.status.busy": "2024-06-14T07:08:26.033469Z",
     "iopub.status.idle": "2024-06-14T07:08:26.059606Z",
     "shell.execute_reply": "2024-06-14T07:08:26.058983Z",
     "shell.execute_reply.started": "2024-06-14T07:08:26.034541Z"
    },
    "tags": []
   },
   "outputs": [
    {
     "name": "stdout",
     "output_type": "stream",
     "text": [
      "ok\n"
     ]
    }
   ],
   "source": [
    "import unicodedata\n",
    "# Функции определения символов и подсчета их соотношения \n",
    "def is_latin(character):\n",
    "    if not character.isalpha():\n",
    "        return False\n",
    "    try:\n",
    "        block_name = unicodedata.name(character)\n",
    "        return 'LATIN' in block_name\n",
    "    except ValueError:\n",
    "        return False\n",
    "\n",
    "def is_cjk(character):\n",
    "    try:\n",
    "        block_name = unicodedata.name(character)\n",
    "        return any(keyword in block_name for keyword in ['CJK UNIFIED IDEOGRAPH', 'CJK COMPATIBILITY IDEOGRAPH', \n",
    "                                                         'CJK RADICAL', 'HIRAGANA', 'KATAKANA', 'KANJI'])\n",
    "    except ValueError:\n",
    "        return False\n",
    "\n",
    "def determine_script_type(text):\n",
    "    if not isinstance(text, str):\n",
    "        return \"ooops\"\n",
    "    \n",
    "    latin_count = 0\n",
    "    cjk_count = 0\n",
    "    non_latin_non_numeric_count = 0\n",
    "    \n",
    "    for char in text:\n",
    "        if is_latin(char):\n",
    "            latin_count += 1\n",
    "        elif is_cjk(char):\n",
    "            cjk_count += 1\n",
    "        elif not char.isdigit():\n",
    "            non_latin_non_numeric_count += 1\n",
    "  \n",
    "    \n",
    "    total_chars = len(text)\n",
    " \n",
    "    if cjk_count < 0.40 * total_chars:    # если иероглифов меньше 40% - удаляем\n",
    "        return \"ooops\"\n",
    "    else:\n",
    "        return \"ok\"\n",
    "\n",
    "# Пример использования\n",
    "print(determine_script_type(\"徳島県で9月14日～21日の8日間で3件3人の交通死亡事故が発生したことを受け、徳島県交通安全対策協議会は22日、今年6回目となる「交通死亡事故多発警報(全県警報)」を発令し、10月1日まで街頭活動や広報活動等の緊急対策を推進しています。なお、現在の発令基準となった2016年以降では年間で最多となっています。 なお23日現在、徳島県内での2019年交通事故死者は計31人(前年同期比＋8)で、264日目で2018年の年間総数と同数に達しました。都道府県別での交通事故死者前年総数到達は滋賀県(8/12)、鳥取県(8/26)に次いで3県目です。また、うち65歳以上の高齢者は22人(＋12)と7割超を占めています。 【徳島県内での2019年交通事故死者数】(9月23日現在：速報値) ・ 1月：3人(＋3)　うち高齢者2人(＋2) ・ 2月：5人(＋3)　　　　　　4人(＋4)　多発警報 02/07～/16 ・ 3月：5人(＋1)　　　　　　3人(＋1)　多発警報 03/20～/29 ・ 4月：4人(＋3)　　　　　　3人(＋2)　多発警報 04/09～/18 ・ 5月：4人(＋2)　　　　　　3人(＋2)　多発警報 05/12～/21 ・ 6月：1人(－3)　　　　　　1人(±0) ・ 7月：5人(＋3)　　　　　　2人(±0) ・ 8月：1人(－4)　　　　　　1人(－2)　多発警報 08/02～/11 ・ 9月：3人(±0)　　　　　　3人(＋3) ・8.58日に1人の割合(上期8.22日/下期9.44日) ・都道府県別：総数29位 増減数5位 増減率5位 人口10万人比1位 ・年間死者数：2018年31人 17年34人 16年49人 15年27人 14年31人 　うち高齢者：　　　18人 　　19人 　　38人 　　17人 　　19人\"))"
   ]
  },
  {
   "cell_type": "code",
   "execution_count": 8,
   "id": "ea06f14d-8706-40d5-93fb-36af4fab5dbf",
   "metadata": {
    "execution": {
     "iopub.execute_input": "2024-06-14T07:09:38.851500Z",
     "iopub.status.busy": "2024-06-14T07:09:38.851079Z",
     "iopub.status.idle": "2024-06-14T07:10:39.283906Z",
     "shell.execute_reply": "2024-06-14T07:10:39.283194Z",
     "shell.execute_reply.started": "2024-06-14T07:09:38.851473Z"
    },
    "tags": []
   },
   "outputs": [
    {
     "data": {
      "text/plain": [
       "18445"
      ]
     },
     "execution_count": 8,
     "metadata": {},
     "output_type": "execute_result"
    }
   ],
   "source": [
    "# Применяем функцию к столбцу 'text' и сохраняем результат в новый столбец 'if_ooops'\n",
    "ddd['if_ooops'] = ddd['text'].apply(determine_script_type)\n",
    "\n",
    "short_texts = ddd[ddd['if_ooops'] == 'ooops']\n",
    "\n",
    "indexes_to_remove = short_texts.index.tolist()\n",
    "\n",
    "# Смотрим, сколько текстов будет удалено\n",
    "len(indexes_to_remove)"
   ]
  },
  {
   "cell_type": "code",
   "execution_count": 9,
   "id": "d689b28e-c78c-479c-b578-c6045a68a33f",
   "metadata": {
    "execution": {
     "iopub.execute_input": "2024-06-14T07:10:48.431093Z",
     "iopub.status.busy": "2024-06-14T07:10:48.429867Z",
     "iopub.status.idle": "2024-06-14T07:10:48.458034Z",
     "shell.execute_reply": "2024-06-14T07:10:48.457217Z",
     "shell.execute_reply.started": "2024-06-14T07:10:48.431055Z"
    },
    "tags": []
   },
   "outputs": [
    {
     "name": "stdout",
     "output_type": "stream",
     "text": [
      "Оригинальный DataFrame:\n",
      "108210\n",
      "Очищенный\n",
      "89765\n"
     ]
    }
   ],
   "source": [
    "print(\"Оригинальный DataFrame:\")\n",
    "print(len(ddd))\n",
    "\n",
    "without = ddd.drop(indexes_to_remove).reset_index(drop=True)\n",
    "\n",
    "print(\"Очищенный\")\n",
    "print(len(without))"
   ]
  },
  {
   "cell_type": "code",
   "execution_count": 59,
   "id": "cff00457-c6ce-404b-89bd-12a481fcf745",
   "metadata": {
    "execution": {
     "iopub.execute_input": "2024-06-11T15:05:05.515634Z",
     "iopub.status.busy": "2024-06-11T15:05:05.514630Z",
     "iopub.status.idle": "2024-06-11T15:05:07.341217Z",
     "shell.execute_reply": "2024-06-11T15:05:07.340502Z",
     "shell.execute_reply.started": "2024-06-11T15:05:05.515594Z"
    },
    "tags": []
   },
   "outputs": [],
   "source": [
    "without.to_csv('ja_before.csv')"
   ]
  }
 ],
 "metadata": {
  "kernelspec": {
   "display_name": "DataSphere Kernel",
   "language": "python",
   "name": "python3"
  },
  "language_info": {
   "codemirror_mode": {
    "name": "ipython",
    "version": 3
   },
   "file_extension": ".py",
   "mimetype": "text/x-python",
   "name": "python",
   "nbconvert_exporter": "python",
   "pygments_lexer": "ipython3",
   "version": "3.10.12"
  }
 },
 "nbformat": 4,
 "nbformat_minor": 5
}
