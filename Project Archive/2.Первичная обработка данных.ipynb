{
 "cells": [
  {
   "cell_type": "code",
   "execution_count": null,
   "id": "1d02b6f7-a5f2-44a9-84c8-18f17582b8a3",
   "metadata": {
    "tags": []
   },
   "outputs": [],
   "source": [
    "%pip install warcio"
   ]
  },
  {
   "cell_type": "code",
   "execution_count": 6,
   "id": "42d0f747-d079-4e82-abcc-e87f54b6049e",
   "metadata": {
    "execution": {
     "iopub.execute_input": "2024-06-11T05:38:53.088471Z",
     "iopub.status.busy": "2024-06-11T05:38:53.087541Z",
     "iopub.status.idle": "2024-06-11T05:38:57.359534Z",
     "shell.execute_reply": "2024-06-11T05:38:57.358802Z",
     "shell.execute_reply.started": "2024-06-11T05:38:53.088432Z"
    },
    "tags": []
   },
   "outputs": [
    {
     "name": "stdout",
     "output_type": "stream",
     "text": [
      "Defaulting to user installation because normal site-packages is not writeable\n",
      "Requirement already satisfied: chardet in /usr/local/lib/python3.10/dist-packages (4.0.0)\n",
      "\n",
      "\u001b[1m[\u001b[0m\u001b[34;49mnotice\u001b[0m\u001b[1;39;49m]\u001b[0m\u001b[39;49m A new release of pip is available: \u001b[0m\u001b[31;49m23.0.1\u001b[0m\u001b[39;49m -> \u001b[0m\u001b[32;49m24.0\u001b[0m\n",
      "\u001b[1m[\u001b[0m\u001b[34;49mnotice\u001b[0m\u001b[1;39;49m]\u001b[0m\u001b[39;49m To update, run: \u001b[0m\u001b[32;49mpython3 -m pip install --upgrade pip\u001b[0m\n"
     ]
    }
   ],
   "source": [
    "%pip install chardet"
   ]
  },
  {
   "cell_type": "code",
   "execution_count": 96,
   "id": "87c77886-8880-4b87-9809-4af2957c8560",
   "metadata": {
    "execution": {
     "iopub.execute_input": "2024-06-11T07:02:06.173465Z",
     "iopub.status.busy": "2024-06-11T07:02:06.172590Z",
     "iopub.status.idle": "2024-06-11T07:02:06.188058Z",
     "shell.execute_reply": "2024-06-11T07:02:06.187517Z",
     "shell.execute_reply.started": "2024-06-11T07:02:06.173423Z"
    },
    "tags": []
   },
   "outputs": [],
   "source": [
    "patterns = {\n",
    "    \"j.people.com.cn\": { \"start\": r'<div class=\"txt_2 clearfix\">', \"end\": r'<div class=\"page_n clearfix\"></div>' }, \n",
    "    \"nordot.app\": { \"start\": r'<article class=\"ma\">', \"end\": r'</article>' }, \n",
    "    \"race.sanspo.com\": { \"start\": r'<!--__pis_article_start__-->', \"end\": r'<!--__pis_article_end__-->' },\n",
    "    \"this.kiji.is\": { \"start\": r'<article class=\"ma\">', \"end\": r'</article>' },  \n",
    "    \"toyokeizai.net\": { \"start\": r'<div id=\"article-body-inner\"', \"end\": r'</div><!-- /article-body-inner -->' },  \n",
    "    \"www.chosunonline.com\": { \"start\": r\"chosunonline.com/js/ad_article_in.js'>\", \"end\": r'</div><!--#article--><!-- google_ad_section_end -->' }, \n",
    "    \"blogos.com\": { \"start\": r'<div itemprop=\"articleBody\" class=\"blogos_article\">', \"end\": r'</div><!-- /blogos_article -->' },\n",
    "    \"digital.hakoshin.jp\": { \"start\": r'<meta name=\"description\" content=\"', \"end\": r'\"> <meta name=\"keywords\" content' },\n",
    "    \"europe.nna.jp\": { \"start\": r'<div class=\"lead\" itemprop=\"articleBody\" >', \"end\": r'</div>' },  \n",
    "    \"hochi.news\": { \"start\": r'<!-- cxenseparse_start -->', \"end\": r'<!-- cxenseparse_end -->' },  \n",
    "    \"jp.sputniknews.com\": { \"start\": r'h2 itemprop=\"description\" class=\"b-article__lead\">', \"end\": r'</p></div><div class=\"social-likes-pane__holder\">' }, \n",
    "    \"news.livedoor.com\": { \"start\": r'<span itemprop=\"articleBody\">', \"end\": r'</span>' },  \n",
    "    \"response.jp\": { \"start\": r'<!-- logly_body_begin --><p>', \"end\": r'</p><!-- logly_body_end -->' },\n",
    "    \"www.afpbb.com\": { \"start\": r'<div class=\"article-body clear\">', \"end\": r'<!-- cxenseparse_end -->' }, \n",
    "    \"www.bloomberg.co.jp\": { \"start\": r'<meta name=\"description\" content=\"', \"end\": r'<meta http-equiv=\"X-UA-Compatible\" content=\"IE=edge' },  \n",
    "    \"news.mynavi.jp\": { \"start\": r'<div class=\"article-body\" id=\"js-articleBody\">', \"end\": r'<!-- cxenseparse_end -->' }, \n",
    "    \"news.mynavi.jp-2016\": { \"start\": r'<div itemprop=\"articleBody\">', \"end\": r'<!-- #EndEditable -->' }\n",
    "   "
   ]
  },
  {
   "cell_type": "code",
   "execution_count": 28,
   "id": "9e2fc776-9d5d-4a54-971d-9a2bc3949d62",
   "metadata": {
    "execution": {
     "iopub.execute_input": "2024-06-11T05:59:55.834322Z",
     "iopub.status.busy": "2024-06-11T05:59:55.833423Z",
     "iopub.status.idle": "2024-06-11T05:59:55.843617Z",
     "shell.execute_reply": "2024-06-11T05:59:55.843057Z",
     "shell.execute_reply.started": "2024-06-11T05:59:55.834285Z"
    },
    "tags": []
   },
   "outputs": [],
   "source": [
    "import re\n",
    "\n",
    "def clean_text(text):\n",
    "    # Убираем HTML-теги и URL\n",
    "    clean_text = re.sub(r'<.*?>|http[s]?://S+', '', text)\n",
    "    \n",
    "    # Убираем лишние пробелы и символы переноса строки\n",
    "    clean_text = re.sub(r'[\\r\\n\\t]', ' ', clean_text)\n",
    "    clean_text = re.sub(r's+', ' ', clean_text)\n",
    "\n",
    "    return clean_text.strip()\n"
   ]
  },
  {
   "cell_type": "code",
   "execution_count": 8,
   "id": "73721ca5-d63d-4825-a5df-3adc8d9e1ebe",
   "metadata": {
    "execution": {
     "iopub.execute_input": "2024-06-11T05:41:33.361412Z",
     "iopub.status.busy": "2024-06-11T05:41:33.360359Z",
     "iopub.status.idle": "2024-06-11T05:41:33.374757Z",
     "shell.execute_reply": "2024-06-11T05:41:33.374128Z",
     "shell.execute_reply.started": "2024-06-11T05:41:33.361381Z"
    },
    "tags": []
   },
   "outputs": [],
   "source": [
    "import re\n",
    "from warcio.archiveiterator import ArchiveIterator\n",
    "from chardet.universaldetector import UniversalDetector\n",
    "import os\n",
    "\n",
    "\n",
    "def extract_text(file_path, patterns):\n",
    "    collection = []\n",
    "\n",
    "    detector = UniversalDetector()\n",
    "\n",
    "    # Извлечение года из имени файла\n",
    "    year = file_path[-15:-11]\n",
    "\n",
    "    for domain, tags in patterns.items():\n",
    "        if domain in file_path:\n",
    "            start_tag = tags.get(\"start\", \"\")\n",
    "            end_tag = tags.get(\"end\", \"\")\n",
    "\n",
    "    with open(file_path, 'rb') as stream:\n",
    "        for record in ArchiveIterator(stream):\n",
    "\n",
    "            if record.rec_type == 'response':\n",
    "                ext_text = record.raw_stream.read()\n",
    "                detector.feed(ext_text)\n",
    "                code = detector.result['encoding']\n",
    "                if code is not None:\n",
    "                    extr = ext_text.decode(code, errors='ignore')  # автоматическое определение кодировки\n",
    "                else:\n",
    "                    extr = ext_text.decode('utf-8', errors='ignore')\n",
    "                match = re.search(f'{start_tag}(.*?){end_tag}', extr, re.DOTALL)\n",
    "                if match:\n",
    "                    text = match.group(1)\n",
    "                    cleaned_text = clean_text(text)      # первичная очистка\n",
    "                    record_uri = record.rec_headers.get_header('WARC-Target-URI')\n",
    "                    collection.append(['ja', record_uri, year, cleaned_text])\n",
    "    \n",
    "    return collection\n"
   ]
  },
  {
   "cell_type": "code",
   "execution_count": 83,
   "id": "5d556e8c-308e-4602-ac71-27dbb5091f02",
   "metadata": {
    "execution": {
     "iopub.execute_input": "2024-06-11T06:49:28.486262Z",
     "iopub.status.busy": "2024-06-11T06:49:28.485287Z",
     "iopub.status.idle": "2024-06-11T06:49:28.500618Z",
     "shell.execute_reply": "2024-06-11T06:49:28.499803Z",
     "shell.execute_reply.started": "2024-06-11T06:49:28.486227Z"
    },
    "tags": []
   },
   "outputs": [],
   "source": [
    "from pathlib import Path\n",
    "\n",
    "# Путь к папке\n",
    "folder_path = Path('/home/jupyter/datasphere/datasets/ja/ja')\n",
    "\n",
    "# Получаем список всех файлов\n",
    "files = [f for f in folder_path.iterdir() if f.is_file()]\n"
   ]
  },
  {
   "cell_type": "code",
   "execution_count": 100,
   "id": "bd98bee6-5cb0-4552-9226-947101d2d124",
   "metadata": {
    "execution": {
     "iopub.execute_input": "2024-06-11T07:02:45.206315Z",
     "iopub.status.busy": "2024-06-11T07:02:45.205341Z",
     "iopub.status.idle": "2024-06-11T07:02:45.225628Z",
     "shell.execute_reply": "2024-06-11T07:02:45.224761Z",
     "shell.execute_reply.started": "2024-06-11T07:02:45.206283Z"
    },
    "tags": []
   },
   "outputs": [
    {
     "name": "stdout",
     "output_type": "stream",
     "text": [
      "Пустой DataFrame сохранен в /home/jupyter/datasphere/project/ja_ready_data.csv\n"
     ]
    }
   ],
   "source": [
    "import pandas as pd\n",
    "\n",
    "# Создаем пустой DataFrame с указанными столбцами\n",
    "columns = ['language', 'link', 'year', 'text']\n",
    "empty_df = pd.DataFrame(columns=columns)\n",
    "\n",
    "# Сохраняем DataFrame в CSV файл\n",
    "output_path = '/home/jupyter/datasphere/project/ja_ready_data.csv'\n",
    "empty_df.to_csv(output_path, index=False)\n",
    "\n",
    "print(f\"Пустой DataFrame сохранен в {output_path}\")\n"
   ]
  },
  {
   "cell_type": "code",
   "execution_count": null,
   "id": "52673aed-d848-4741-8672-df7e63757906",
   "metadata": {
    "execution": {
     "iopub.execute_input": "2024-06-11T07:02:53.348710Z",
     "iopub.status.busy": "2024-06-11T07:02:53.347437Z"
    },
    "tags": []
   },
   "outputs": [],
   "source": [
    "csv_file_path = '/home/jupyter/datasphere/project/ja_ready_data.csv'\n",
    "for file in files:\n",
    "    file_key = file.name.split('-')[0]\n",
    "    if file_key in patterns:\n",
    "        new_data_df = pd.DataFrame(extract_text('/home/jupyter/datasphere/datasets/ja/ja/'+file.name, patterns), columns = ['language', 'link', 'year', 'text'])\n",
    "\n",
    "        # Чтение существующего CSV-файла\n",
    "        existing_data_df = pd.read_csv(csv_file_path)\n",
    "\n",
    "        # Объединение существующих и новых данных\n",
    "        updated_data_df = pd.concat([existing_data_df, new_data_df], axis=0, ignore_index=True)\n",
    "\n",
    "        # Запись обновленных данных обратно в CSV-файл\n",
    "        updated_data_df.to_csv(csv_file_path, index=False)"
   ]
  },
  {
   "cell_type": "code",
   "execution_count": null,
   "id": "3729a41b-54e7-41a5-ab8a-12daa9f98e65",
   "metadata": {},
   "outputs": [],
   "source": [
    "# ['ja',\n",
    "#   'http://www.chosunonline.com/site/data/html_dir/2022/06/01/2022060180001.html',\n",
    "#   '2022',\n",
    "#   '【ソウル聯合ニュース】韓国の統一地方選と国会議員補欠選の投票が１日午前６時、и остальной текст']"
   ]
  }
 ],
 "metadata": {
  "kernelspec": {
   "display_name": "DataSphere Kernel",
   "language": "python",
   "name": "python3"
  },
  "language_info": {
   "codemirror_mode": {
    "name": "ipython",
    "version": 3
   },
   "file_extension": ".py",
   "mimetype": "text/x-python",
   "name": "python",
   "nbconvert_exporter": "python",
   "pygments_lexer": "ipython3",
   "version": "3.10.12"
  }
 },
 "nbformat": 4,
 "nbformat_minor": 5
}
