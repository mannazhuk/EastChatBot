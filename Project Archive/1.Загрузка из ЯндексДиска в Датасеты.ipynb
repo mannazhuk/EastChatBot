{
 "cells": [
  {
   "cell_type": "code",
   "execution_count": null,
   "id": "f6ac007f-110a-47c1-823a-cc8e37de0114",
   "metadata": {},
   "outputs": [],
   "source": [
    "# Загрузка данных с Яндекс.Диска в Датасеты"
   ]
  },
  {
   "cell_type": "code",
   "execution_count": null,
   "id": "c75df1f2-17bc-4766-9289-7b54ef5265f6",
   "metadata": {
    "execution": {
     "iopub.execute_input": "2024-06-09T12:09:54.415702Z",
     "iopub.status.busy": "2024-06-09T12:09:54.414896Z",
     "iopub.status.idle": "2024-06-09T15:44:16.206895Z"
    },
    "tags": []
   },
   "outputs": [
    {
     "name": "stdout",
     "output_type": "stream",
     "text": [
      "final_url: https://cloud-api.yandex.net/v1/disk/public/resources/download?public_key=https%3A%2F%2Fdisk.yandex.ru%2Fd%2F745gqCkHlhUkFg\n",
      "response1: <Response [200]>\n",
      "download_url: https://downloader.disk.yandex.ru/zip/58dff58a6ded9815a4af1ec14950c1b78ce27e98e6ed269afb699a07bf66ce44/66659c0a/N1lqUWFvZ25id3pDVVVmVDRBRXR0U21IV2xLYjNtYzVFeCtDUzFYaHZuOE5FanBpVlpBM1hsajJwS3dOMUgvcHEvSjZicG1SeU9Kb25UM1ZvWG5EYWc9PTo=?uid=0&filename=ja.zip&disposition=attachment&hash=7YjQaognbwzCUUfT4AEttSmHWlKb3mc5Ex%2BCS1Xhvn8NEjpiVZA3Xlj2pKwN1H/pq/J6bpmRyOJonT3VoXnDag%3D%3D%3A&limit=0&owner_uid=1973747690&tknv=v2\n",
      "response2: <Response [200]>\n"
     ]
    }
   ],
   "source": [
    "#pragma dataset init ja --size 50Gb\n",
    "\n",
    "import requests\n",
    "from urllib.parse import urlencode\n",
    "from io import BytesIO\n",
    "from zipfile import ZipFile\n",
    "\n",
    "base_url = 'https://cloud-api.yandex.net/v1/disk/public/resources/download?'\n",
    "public_key = 'https://disk.yandex.ru/d/745gqCkHlhUkFg'\n",
    "\n",
    "final_url = base_url + urlencode(dict(public_key=public_key))\n",
    "print('final_url:', final_url)\n",
    "response = requests.get(final_url)\n",
    "print('response1:', response)\n",
    "download_url = response.json()['href']\n",
    "print('download_url:', download_url)\n",
    "response = requests.get(download_url)\n",
    "print('response2:', response)\n",
    "\n",
    "dist_path = '/home/jupyter/mnt/datasets/ja/'\n",
    "zipfile = ZipFile(BytesIO(response.content))\n",
    "zipfile.extractall(path=dist_path)"
   ]
  },
  {
   "cell_type": "code",
   "execution_count": 6,
   "id": "a788b1e7-0a1b-4e8c-9eeb-be4073f6c1ef",
   "metadata": {
    "execution": {
     "iopub.execute_input": "2024-06-08T14:44:35.915560Z",
     "iopub.status.busy": "2024-06-08T14:44:35.914546Z",
     "iopub.status.idle": "2024-06-08T18:08:23.377717Z",
     "shell.execute_reply": "2024-06-08T18:08:23.376707Z",
     "shell.execute_reply.started": "2024-06-08T14:44:35.915531Z"
    },
    "tags": []
   },
   "outputs": [
    {
     "name": "stdout",
     "output_type": "stream",
     "text": [
      "final_url: https://cloud-api.yandex.net/v1/disk/public/resources/download?public_key=https%3A%2F%2Fdisk.yandex.ru%2Fd%2FuGRY1b4FF_RnWw\n",
      "response1: <Response [200]>\n",
      "download_url: https://downloader.disk.yandex.ru/zip/eab6a385b0843c36ed0729d3faa35c0175fb28ab3ae5b2d755fb12338d441b8a/66646ecc/SWRZUTRha0NibVhmY2FDamxyUGZCMzN2MVZTTlVRTDk4c1hlamM3RFVWT3BQOEVKL2c0Zys3a0JVTTlkUlJmL3EvSjZicG1SeU9Kb25UM1ZvWG5EYWc9PTo=?uid=0&filename=zh.zip&disposition=attachment&hash=IdYQ4akCbmXfcaCjlrPfB33v1VSNUQL98sXejc7DUVOpP8EJ/g4g%2B7kBUM9dRRf/q/J6bpmRyOJonT3VoXnDag%3D%3D%3A&limit=0&owner_uid=1973747690&tknv=v2\n",
      "response2: <Response [200]>\n"
     ]
    }
   ],
   "source": [
    "#pragma dataset init zh --size 40Gb\n",
    "\n",
    "import requests\n",
    "from urllib.parse import urlencode\n",
    "from io import BytesIO\n",
    "from zipfile import ZipFile\n",
    "\n",
    "base_url = 'https://cloud-api.yandex.net/v1/disk/public/resources/download?'\n",
    "public_key = 'https://disk.yandex.ru/d/uGRY1b4FF_RnWw'\n",
    "\n",
    "final_url = base_url + urlencode(dict(public_key=public_key))\n",
    "print('final_url:', final_url)\n",
    "response = requests.get(final_url)\n",
    "print('response1:', response)\n",
    "download_url = response.json()['href']\n",
    "print('download_url:', download_url)\n",
    "response = requests.get(download_url)\n",
    "print('response2:', response)\n",
    "\n",
    "dist_path = '/home/jupyter/mnt/datasets/zh/'\n",
    "zipfile = ZipFile(BytesIO(response.content))\n",
    "zipfile.extractall(path=dist_path)"
   ]
  }
 ],
 "metadata": {
  "kernelspec": {
   "display_name": "DataSphere Kernel",
   "language": "python",
   "name": "python3"
  },
  "language_info": {
   "codemirror_mode": {
    "name": "ipython",
    "version": 3
   },
   "file_extension": ".py",
   "mimetype": "text/x-python",
   "name": "python",
   "nbconvert_exporter": "python",
   "pygments_lexer": "ipython3",
   "version": "3.10.12"
  }
 },
 "nbformat": 4,
 "nbformat_minor": 5
}
