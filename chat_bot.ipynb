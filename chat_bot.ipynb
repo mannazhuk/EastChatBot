{
  "cells": [
    {
      "cell_type": "code",
      "execution_count": null,
      "id": "c41b2b0d-0e87-4af5-89ba-448e1ab05aeb",
      "metadata": {
        "tags": [],
        "id": "c41b2b0d-0e87-4af5-89ba-448e1ab05aeb"
      },
      "outputs": [],
      "source": [
        "%pip install -r requirements.txt"
      ]
    },
    {
      "cell_type": "code",
      "execution_count": null,
      "id": "160fa6b7-67cf-455e-8aab-152e9184ea9e",
      "metadata": {
        "execution": {
          "iopub.execute_input": "2024-06-14T06:06:39.107399Z",
          "iopub.status.busy": "2024-06-14T06:06:39.106423Z",
          "iopub.status.idle": "2024-06-14T06:06:44.709205Z",
          "shell.execute_reply": "2024-06-14T06:06:44.708346Z",
          "shell.execute_reply.started": "2024-06-14T06:06:39.107354Z"
        },
        "tags": [],
        "id": "160fa6b7-67cf-455e-8aab-152e9184ea9e"
      },
      "outputs": [],
      "source": [
        "import requests\n",
        "import json\n",
        "import time\n",
        "import jwt\n",
        "import os\n",
        "from yandex_chain import YandexLLM, YandexEmbeddings, YandexGPTModel\n",
        "from langchain.vectorstores import FAISS\n",
        "from langchain.prompts import ChatPromptTemplate\n",
        "from langchain.schema.output_parser import StrOutputParser\n",
        "from langchain.schema.runnable import RunnablePassthrough\n",
        "import faiss\n",
        "import pickle\n",
        "import pandas as pd\n",
        "import gradio as gr"
      ]
    },
    {
      "cell_type": "code",
      "execution_count": null,
      "id": "288cf2e6-2960-4740-a555-f47b3470d64d",
      "metadata": {
        "execution": {
          "iopub.execute_input": "2024-06-14T06:06:51.251180Z",
          "iopub.status.busy": "2024-06-14T06:06:51.250163Z",
          "iopub.status.idle": "2024-06-14T06:06:51.317874Z",
          "shell.execute_reply": "2024-06-14T06:06:51.317047Z",
          "shell.execute_reply.started": "2024-06-14T06:06:51.251136Z"
        },
        "tags": [],
        "id": "288cf2e6-2960-4740-a555-f47b3470d64d"
      },
      "outputs": [],
      "source": [
        "service_account_id = os.environ['service_account_id']\n",
        "key_id = os.environ['key_id']\n",
        "private_key = os.environ['my-API']"
      ]
    },
    {
      "cell_type": "code",
      "execution_count": null,
      "id": "cb75e1e7-187b-435b-8b9d-51b37e0176c6",
      "metadata": {
        "execution": {
          "iopub.execute_input": "2024-06-14T06:06:53.913857Z",
          "iopub.status.busy": "2024-06-14T06:06:53.912803Z",
          "iopub.status.idle": "2024-06-14T06:06:54.099821Z",
          "shell.execute_reply": "2024-06-14T06:06:54.098996Z",
          "shell.execute_reply.started": "2024-06-14T06:06:53.913814Z"
        },
        "tags": [],
        "id": "cb75e1e7-187b-435b-8b9d-51b37e0176c6"
      },
      "outputs": [],
      "source": [
        "with open('authorized_key.json', 'r') as f:\n",
        "  obj = f.read()\n",
        "  obj = json.loads(obj)\n",
        "  private_key = obj['private_key']\n",
        "  key_id = obj['id']\n",
        "  service_account_id = obj['service_account_id']\n",
        "\n",
        "now = int(time.time())\n",
        "payload = {\n",
        "        'aud': 'https://iam.api.cloud.yandex.net/iam/v1/tokens',\n",
        "        'iss': service_account_id,\n",
        "        'iat': now,\n",
        "        'exp': now + 3600\n",
        "      }\n",
        "\n",
        "# Формирование JWT.\n",
        "encoded_token = jwt.encode(\n",
        "    payload,\n",
        "    private_key,\n",
        "    algorithm='PS256',\n",
        "    headers={'kid': key_id}\n",
        "  )\n",
        "\n",
        "#Запись ключа в файл\n",
        "with open('jwt_token.txt', 'w') as j:\n",
        "   j.write(encoded_token)\n",
        "\n",
        "# Вывод в консоль\n",
        "#print(encoded_token)\n"
      ]
    },
    {
      "cell_type": "code",
      "execution_count": null,
      "id": "4a4d775d-4087-4662-b374-bdabc27d9d72",
      "metadata": {
        "execution": {
          "iopub.execute_input": "2024-06-14T06:07:01.554915Z",
          "iopub.status.busy": "2024-06-14T06:07:01.553668Z",
          "iopub.status.idle": "2024-06-14T06:07:01.644920Z",
          "shell.execute_reply": "2024-06-14T06:07:01.644129Z",
          "shell.execute_reply.started": "2024-06-14T06:07:01.554872Z"
        },
        "tags": [],
        "id": "4a4d775d-4087-4662-b374-bdabc27d9d72"
      },
      "outputs": [],
      "source": [
        "now = int(time.time())\n",
        "payload = {\n",
        "        'aud': 'https://iam.api.cloud.yandex.net/iam/v1/tokens',\n",
        "        'iss': service_account_id,\n",
        "        'iat': now,\n",
        "        'exp': now + 360}\n",
        "\n",
        "# Формирование JWT\n",
        "encoded_token = jwt.encode(\n",
        "    payload,\n",
        "    private_key,\n",
        "    algorithm='PS256',\n",
        "    headers={'kid': key_id})\n",
        "\n",
        "url = 'https://iam.api.cloud.yandex.net/iam/v1/tokens'\n",
        "x = requests.post(url,  headers={'Content-Type': 'application/json'}, json = {'jwt': encoded_token}).json()\n",
        "token = x['iamToken']"
      ]
    },
    {
      "cell_type": "code",
      "execution_count": null,
      "id": "ff5f4b2b-2343-49eb-9967-8829ce09a954",
      "metadata": {
        "execution": {
          "iopub.execute_input": "2024-06-14T06:07:05.847727Z",
          "iopub.status.busy": "2024-06-14T06:07:05.846447Z",
          "iopub.status.idle": "2024-06-14T06:07:05.868692Z",
          "shell.execute_reply": "2024-06-14T06:07:05.867928Z",
          "shell.execute_reply.started": "2024-06-14T06:07:05.847680Z"
        },
        "tags": [],
        "id": "ff5f4b2b-2343-49eb-9967-8829ce09a954"
      },
      "outputs": [],
      "source": [
        "def load_retriever(n):\n",
        "    # Определение имен файлов для загрузки\n",
        "    if n == 0:\n",
        "        combined_index_file = 'faiss_2016_index.index'\n",
        "        combined_pkl_file = 'faiss_2016_index.pkl'\n",
        "    else:\n",
        "        combined_index_file = f'combined_{n}_index.index'\n",
        "        combined_pkl_file = f'combined_{n}_index.pkl'\n",
        "\n",
        "    # Загрузка индекса из файла\n",
        "    index = faiss.read_index(combined_index_file)\n",
        "\n",
        "    # Загрузка метаданных\n",
        "    with open(combined_pkl_file, \"rb\") as f:\n",
        "        vectorstore = pickle.load(f)\n",
        "\n",
        "    # Обновление индекса в загруженном векторном хранилище\n",
        "    vectorstore.index = index\n",
        "\n",
        "    # Создание и возврат retriever\n",
        "    return vectorstore.as_retriever()\n"
      ]
    },
    {
      "cell_type": "code",
      "execution_count": null,
      "id": "d9bb1ea9-ebba-4d17-ab84-d3a599f68427",
      "metadata": {
        "execution": {
          "iopub.execute_input": "2024-06-14T06:07:08.324416Z",
          "iopub.status.busy": "2024-06-14T06:07:08.323319Z",
          "iopub.status.idle": "2024-06-14T06:07:08.349502Z",
          "shell.execute_reply": "2024-06-14T06:07:08.348496Z",
          "shell.execute_reply.started": "2024-06-14T06:07:08.324373Z"
        },
        "tags": [],
        "id": "d9bb1ea9-ebba-4d17-ab84-d3a599f68427"
      },
      "outputs": [],
      "source": [
        "def find_matching_indices(data, search_substring):\n",
        "    matching_indice = 0\n",
        "\n",
        "    for i, doc in enumerate(data):\n",
        "        if search_substring in doc:\n",
        "            matching_indice = i\n",
        "\n",
        "    return matching_indice\n"
      ]
    },
    {
      "cell_type": "code",
      "execution_count": null,
      "id": "4ca7ab20-e538-412c-9373-28215c73a149",
      "metadata": {
        "execution": {
          "iopub.execute_input": "2024-06-14T06:07:11.106146Z",
          "iopub.status.busy": "2024-06-14T06:07:11.104930Z",
          "iopub.status.idle": "2024-06-14T06:07:11.116593Z",
          "shell.execute_reply": "2024-06-14T06:07:11.115608Z",
          "shell.execute_reply.started": "2024-06-14T06:07:11.106100Z"
        },
        "tags": [],
        "id": "4ca7ab20-e538-412c-9373-28215c73a149"
      },
      "outputs": [],
      "source": [
        "def add_sources(res, sources):\n",
        "    # Добавить отступ в одну строку\n",
        "    result_with_sources = res + \"\\n\\nВас могут заинтересовать следующие источники:\\n\\n\"\n",
        "\n",
        "    # Пронумерованные ссылки из списка\n",
        "    for i, source in enumerate(sources, 1):\n",
        "        result_with_sources += f\"{i}.[{source}]({source})\\n\\n\"\n",
        "\n",
        "\n",
        "    return result_with_sources\n",
        "\n"
      ]
    },
    {
      "cell_type": "code",
      "execution_count": null,
      "id": "c8a01af0-8e28-492f-946b-f0828f2d10de",
      "metadata": {
        "execution": {
          "iopub.execute_input": "2024-06-14T06:10:41.798169Z",
          "iopub.status.busy": "2024-06-14T06:10:41.797347Z",
          "iopub.status.idle": "2024-06-14T06:10:41.818327Z",
          "shell.execute_reply": "2024-06-14T06:10:41.817457Z",
          "shell.execute_reply.started": "2024-06-14T06:10:41.798128Z"
        },
        "tags": [],
        "id": "c8a01af0-8e28-492f-946b-f0828f2d10de"
      },
      "outputs": [],
      "source": [
        "def respond_to_query(year, query):\n",
        "    year_to_n = {\n",
        "        2016: 0,\n",
        "        2017: 1,\n",
        "        2018: 1,             # тестировать ТОЛЬКО ДО 2019 года, т.е. n НЕ ДОЛЖНО ПРЕВЫШАТЬ 2\n",
        "        2019: 2,             # так как хранилища для других годов не помещаются на гитхаб\n",
        "        2020: 2,\n",
        "        2021: 2,\n",
        "        2022: 3,\n",
        "        2023: 4\n",
        "    }\n",
        "\n",
        "    n = year_to_n[year] # Преобразование года в число от 0 до 4\n",
        "\n",
        "    embeddings = YandexEmbeddings(folder_id=os.environ['folder_id'], api_key=os.environ['my-API'])\n",
        "    retriever = load_retriever(n)\n",
        "\n",
        "    template = \"\"\"\n",
        "    Коротко (не более 100 слов) ответь на вопрос, опираясь только на следующий контекст:{context}.\n",
        "    Очень важно: к китайским именам и названиям добавляй их написание на китайском языке, а к японским именам и названиям добавляй их написание на японском языке.\n",
        "    Question: {question}.\n",
        "    \"\"\"\n",
        "    prompt = ChatPromptTemplate.from_template(template)\n",
        "\n",
        "    model = YandexLLM(folder_id=os.environ['folder_id'], api_key=os.environ['my-API'], model=YandexGPTModel.Pro)\n",
        "\n",
        "    chain = (\n",
        "        {\"context\": retriever, \"question\": RunnablePassthrough()}\n",
        "        | prompt\n",
        "        | model\n",
        "        | StrOutputParser()\n",
        "    )\n",
        "    # Читаем части из файлов с данными\n",
        "    part_files = [f\"data_part_{i+1}.csv\" for i in range(5)]\n",
        "    parts = [pd.read_csv(file) for file in part_files]\n",
        "\n",
        "    # Объединяем части в один DataFrame\n",
        "    data = pd.concat(parts, ignore_index=True)\n",
        "\n",
        "    # Создадим пустой список для ссылок\n",
        "    links = []\n",
        "    results = retriever.invoke(query)\n",
        "    # Проходим по каждому результату из 'results'\n",
        "    for result in results:\n",
        "        # Найдем все индексы, где результат есть в столбце 'translated_text'\n",
        "        indices = find_matching_indices(data['translated_text'], str(result)[14:60])\n",
        "        links.append(data['link'][indices])\n",
        "\n",
        "    # Пример использования\n",
        "    res = chain.invoke(query)\n",
        "    final_result = add_sources(res, links)\n",
        "\n",
        "    return final_result\n"
      ]
    },
    {
      "cell_type": "code",
      "execution_count": null,
      "id": "e23b9550-84e3-49f9-abb1-c764ee0e7a27",
      "metadata": {
        "execution": {
          "iopub.execute_input": "2024-06-14T06:14:00.626245Z",
          "iopub.status.busy": "2024-06-14T06:14:00.624983Z"
        },
        "tags": [],
        "id": "e23b9550-84e3-49f9-abb1-c764ee0e7a27"
      },
      "outputs": [],
      "source": [
        "custom_css = \"\"\"\n",
        "<style>\n",
        "    .container {\n",
        "        max-width: 700px;\n",
        "        margin: 0 auto;\n",
        "    }\n",
        "</style>\n",
        "\"\"\"\n",
        "with gr.Blocks() as demo:\n",
        "    # Включаем стили\n",
        "    gr.HTML(custom_css)\n",
        "\n",
        "    # Разметка содержимого\n",
        "    with gr.Column(elem_classes=\"container\"):\n",
        "        # Заголовок\n",
        "        gr.Markdown(\"# Чатбот-консультант по восточным СМИ (команда 'Серсо')\")\n",
        "\n",
        "        # Выбор года от 2016 до 2023\n",
        "        year = gr.Slider(2016, 2023, step=1, label=\"Выберите год от 2016 до 2023. База будет проанализирована по этот год включительно:\", value=2016)\n",
        "\n",
        "        # Ввод вопроса\n",
        "        query = gr.Textbox(label=\"Введите ваш вопрос:\")\n",
        "\n",
        "        # Кнопка для отправки запроса\n",
        "        answer_btn = gr.Button(\"Отправить запрос\")\n",
        "\n",
        "        # Место для отображения ответа\n",
        "        output = gr.Markdown(label=\"Ответ бота:\")\n",
        "\n",
        "    # Соединение ввода, клика кнопки и выхода\n",
        "    answer_btn.click(fn=respond_to_query, inputs=[year, query], outputs=output)\n",
        "\n",
        "# Запуск приложения\n",
        "demo.launch(share=True, debug=True)"
      ]
    }
  ],
  "metadata": {
    "kernelspec": {
      "display_name": "DataSphere Kernel",
      "language": "python",
      "name": "python3"
    },
    "language_info": {
      "codemirror_mode": {
        "name": "ipython",
        "version": 3
      },
      "file_extension": ".py",
      "mimetype": "text/x-python",
      "name": "python",
      "nbconvert_exporter": "python",
      "pygments_lexer": "ipython3",
      "version": "3.10.12"
    },
    "colab": {
      "provenance": []
    }
  },
  "nbformat": 4,
  "nbformat_minor": 5
}