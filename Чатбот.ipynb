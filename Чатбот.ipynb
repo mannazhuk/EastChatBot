{
 "cells": [
  {
   "cell_type": "code",
   "execution_count": 1,
   "id": "a7e2b796-2590-43d3-bb7f-b6af3a753d4d",
   "metadata": {
    "execution": {
     "iopub.execute_input": "2024-06-13T17:55:22.451944Z",
     "iopub.status.busy": "2024-06-13T17:55:22.450908Z",
     "iopub.status.idle": "2024-06-13T17:55:39.262134Z",
     "shell.execute_reply": "2024-06-13T17:55:39.261258Z",
     "shell.execute_reply.started": "2024-06-13T17:55:22.451901Z"
    },
    "tags": []
   },
   "outputs": [
    {
     "name": "stdout",
     "output_type": "stream",
     "text": [
      "Defaulting to user installation because normal site-packages is not writeable\n",
      "Requirement already satisfied: yandex_chain in /home/jupyter/.local/lib/python3.10/site-packages (0.0.8)\n",
      "Requirement already satisfied: requests in /home/jupyter/.local/lib/python3.10/site-packages (from yandex_chain) (2.32.3)\n",
      "Requirement already satisfied: langchain==0.2.1 in /home/jupyter/.local/lib/python3.10/site-packages (from yandex_chain) (0.2.1)\n",
      "Requirement already satisfied: tenacity in /usr/local/lib/python3.10/dist-packages (from yandex_chain) (8.2.2)\n",
      "Requirement already satisfied: PyYAML>=5.3 in /usr/local/lib/python3.10/dist-packages (from langchain==0.2.1->yandex_chain) (6.0.1)\n",
      "Requirement already satisfied: SQLAlchemy<3,>=1.4 in /usr/local/lib/python3.10/dist-packages (from langchain==0.2.1->yandex_chain) (2.0.19)\n",
      "Requirement already satisfied: aiohttp<4.0.0,>=3.8.3 in /usr/local/lib/python3.10/dist-packages (from langchain==0.2.1->yandex_chain) (3.8.5)\n",
      "Requirement already satisfied: async-timeout<5.0.0,>=4.0.0 in /usr/local/lib/python3.10/dist-packages (from langchain==0.2.1->yandex_chain) (4.0.2)\n",
      "Requirement already satisfied: langchain-core<0.3.0,>=0.2.0 in /home/jupyter/.local/lib/python3.10/site-packages (from langchain==0.2.1->yandex_chain) (0.2.5)\n",
      "Requirement already satisfied: langchain-text-splitters<0.3.0,>=0.2.0 in /home/jupyter/.local/lib/python3.10/site-packages (from langchain==0.2.1->yandex_chain) (0.2.1)\n",
      "Requirement already satisfied: langsmith<0.2.0,>=0.1.17 in /home/jupyter/.local/lib/python3.10/site-packages (from langchain==0.2.1->yandex_chain) (0.1.75)\n",
      "Requirement already satisfied: numpy<2,>=1 in /usr/local/lib/python3.10/dist-packages (from langchain==0.2.1->yandex_chain) (1.22.4)\n",
      "Requirement already satisfied: pydantic<3,>=1 in /home/jupyter/.local/lib/python3.10/site-packages (from langchain==0.2.1->yandex_chain) (2.7.4)\n",
      "Requirement already satisfied: charset-normalizer<4,>=2 in /usr/local/lib/python3.10/dist-packages (from requests->yandex_chain) (2.0.12)\n",
      "Requirement already satisfied: idna<4,>=2.5 in /home/jupyter/.local/lib/python3.10/site-packages (from requests->yandex_chain) (2.10)\n",
      "Requirement already satisfied: urllib3<3,>=1.21.1 in /home/jupyter/.local/lib/python3.10/site-packages (from requests->yandex_chain) (2.2.1)\n",
      "Requirement already satisfied: certifi>=2017.4.17 in /usr/local/lib/python3.10/dist-packages (from requests->yandex_chain) (2023.7.22)\n",
      "Requirement already satisfied: attrs>=17.3.0 in /usr/local/lib/python3.10/dist-packages (from aiohttp<4.0.0,>=3.8.3->langchain==0.2.1->yandex_chain) (23.1.0)\n",
      "Requirement already satisfied: multidict<7.0,>=4.5 in /usr/local/lib/python3.10/dist-packages (from aiohttp<4.0.0,>=3.8.3->langchain==0.2.1->yandex_chain) (6.0.4)\n",
      "Requirement already satisfied: yarl<2.0,>=1.0 in /usr/local/lib/python3.10/dist-packages (from aiohttp<4.0.0,>=3.8.3->langchain==0.2.1->yandex_chain) (1.9.2)\n",
      "Requirement already satisfied: frozenlist>=1.1.1 in /usr/local/lib/python3.10/dist-packages (from aiohttp<4.0.0,>=3.8.3->langchain==0.2.1->yandex_chain) (1.4.0)\n",
      "Requirement already satisfied: aiosignal>=1.1.2 in /usr/local/lib/python3.10/dist-packages (from aiohttp<4.0.0,>=3.8.3->langchain==0.2.1->yandex_chain) (1.3.1)\n",
      "Requirement already satisfied: jsonpatch<2.0,>=1.33 in /home/jupyter/.local/lib/python3.10/site-packages (from langchain-core<0.3.0,>=0.2.0->langchain==0.2.1->yandex_chain) (1.33)\n",
      "Requirement already satisfied: packaging<24.0,>=23.2 in /home/jupyter/.local/lib/python3.10/site-packages (from langchain-core<0.3.0,>=0.2.0->langchain==0.2.1->yandex_chain) (23.2)\n",
      "Requirement already satisfied: orjson<4.0.0,>=3.9.14 in /home/jupyter/.local/lib/python3.10/site-packages (from langsmith<0.2.0,>=0.1.17->langchain==0.2.1->yandex_chain) (3.10.3)\n",
      "Requirement already satisfied: annotated-types>=0.4.0 in /home/jupyter/.local/lib/python3.10/site-packages (from pydantic<3,>=1->langchain==0.2.1->yandex_chain) (0.7.0)\n",
      "Requirement already satisfied: pydantic-core==2.18.4 in /home/jupyter/.local/lib/python3.10/site-packages (from pydantic<3,>=1->langchain==0.2.1->yandex_chain) (2.18.4)\n",
      "Requirement already satisfied: typing-extensions>=4.6.1 in /home/jupyter/.local/lib/python3.10/site-packages (from pydantic<3,>=1->langchain==0.2.1->yandex_chain) (4.12.2)\n",
      "Requirement already satisfied: greenlet!=0.4.17 in /usr/local/lib/python3.10/dist-packages (from SQLAlchemy<3,>=1.4->langchain==0.2.1->yandex_chain) (2.0.2)\n",
      "Requirement already satisfied: jsonpointer>=1.9 in /home/jupyter/.local/lib/python3.10/site-packages (from jsonpatch<2.0,>=1.33->langchain-core<0.3.0,>=0.2.0->langchain==0.2.1->yandex_chain) (2.4)\n",
      "\n",
      "\u001b[1m[\u001b[0m\u001b[34;49mnotice\u001b[0m\u001b[1;39;49m]\u001b[0m\u001b[39;49m A new release of pip is available: \u001b[0m\u001b[31;49m23.0.1\u001b[0m\u001b[39;49m -> \u001b[0m\u001b[32;49m24.0\u001b[0m\n",
      "\u001b[1m[\u001b[0m\u001b[34;49mnotice\u001b[0m\u001b[1;39;49m]\u001b[0m\u001b[39;49m To update, run: \u001b[0m\u001b[32;49mpython3 -m pip install --upgrade pip\u001b[0m\n",
      "Defaulting to user installation because normal site-packages is not writeable\n",
      "Requirement already satisfied: langchain-community in /home/jupyter/.local/lib/python3.10/site-packages (0.2.4)\n",
      "Requirement already satisfied: PyYAML>=5.3 in /usr/local/lib/python3.10/dist-packages (from langchain-community) (6.0.1)\n",
      "Requirement already satisfied: SQLAlchemy<3,>=1.4 in /usr/local/lib/python3.10/dist-packages (from langchain-community) (2.0.19)\n",
      "Requirement already satisfied: aiohttp<4.0.0,>=3.8.3 in /usr/local/lib/python3.10/dist-packages (from langchain-community) (3.8.5)\n",
      "Requirement already satisfied: dataclasses-json<0.7,>=0.5.7 in /home/jupyter/.local/lib/python3.10/site-packages (from langchain-community) (0.6.6)\n",
      "Requirement already satisfied: langchain<0.3.0,>=0.2.0 in /home/jupyter/.local/lib/python3.10/site-packages (from langchain-community) (0.2.1)\n",
      "Requirement already satisfied: langchain-core<0.3.0,>=0.2.0 in /home/jupyter/.local/lib/python3.10/site-packages (from langchain-community) (0.2.5)\n",
      "Requirement already satisfied: langsmith<0.2.0,>=0.1.0 in /home/jupyter/.local/lib/python3.10/site-packages (from langchain-community) (0.1.75)\n",
      "Requirement already satisfied: numpy<2,>=1 in /usr/local/lib/python3.10/dist-packages (from langchain-community) (1.22.4)\n",
      "Requirement already satisfied: requests<3,>=2 in /home/jupyter/.local/lib/python3.10/site-packages (from langchain-community) (2.32.3)\n",
      "Requirement already satisfied: tenacity<9.0.0,>=8.1.0 in /usr/local/lib/python3.10/dist-packages (from langchain-community) (8.2.2)\n",
      "Requirement already satisfied: attrs>=17.3.0 in /usr/local/lib/python3.10/dist-packages (from aiohttp<4.0.0,>=3.8.3->langchain-community) (23.1.0)\n",
      "Requirement already satisfied: charset-normalizer<4.0,>=2.0 in /usr/local/lib/python3.10/dist-packages (from aiohttp<4.0.0,>=3.8.3->langchain-community) (2.0.12)\n",
      "Requirement already satisfied: multidict<7.0,>=4.5 in /usr/local/lib/python3.10/dist-packages (from aiohttp<4.0.0,>=3.8.3->langchain-community) (6.0.4)\n",
      "Requirement already satisfied: async-timeout<5.0,>=4.0.0a3 in /usr/local/lib/python3.10/dist-packages (from aiohttp<4.0.0,>=3.8.3->langchain-community) (4.0.2)\n",
      "Requirement already satisfied: yarl<2.0,>=1.0 in /usr/local/lib/python3.10/dist-packages (from aiohttp<4.0.0,>=3.8.3->langchain-community) (1.9.2)\n",
      "Requirement already satisfied: frozenlist>=1.1.1 in /usr/local/lib/python3.10/dist-packages (from aiohttp<4.0.0,>=3.8.3->langchain-community) (1.4.0)\n",
      "Requirement already satisfied: aiosignal>=1.1.2 in /usr/local/lib/python3.10/dist-packages (from aiohttp<4.0.0,>=3.8.3->langchain-community) (1.3.1)\n",
      "Requirement already satisfied: marshmallow<4.0.0,>=3.18.0 in /home/jupyter/.local/lib/python3.10/site-packages (from dataclasses-json<0.7,>=0.5.7->langchain-community) (3.21.3)\n",
      "Requirement already satisfied: typing-inspect<1,>=0.4.0 in /home/jupyter/.local/lib/python3.10/site-packages (from dataclasses-json<0.7,>=0.5.7->langchain-community) (0.9.0)\n",
      "Requirement already satisfied: langchain-text-splitters<0.3.0,>=0.2.0 in /home/jupyter/.local/lib/python3.10/site-packages (from langchain<0.3.0,>=0.2.0->langchain-community) (0.2.1)\n",
      "Requirement already satisfied: pydantic<3,>=1 in /home/jupyter/.local/lib/python3.10/site-packages (from langchain<0.3.0,>=0.2.0->langchain-community) (2.7.4)\n",
      "Requirement already satisfied: jsonpatch<2.0,>=1.33 in /home/jupyter/.local/lib/python3.10/site-packages (from langchain-core<0.3.0,>=0.2.0->langchain-community) (1.33)\n",
      "Requirement already satisfied: packaging<24.0,>=23.2 in /home/jupyter/.local/lib/python3.10/site-packages (from langchain-core<0.3.0,>=0.2.0->langchain-community) (23.2)\n",
      "Requirement already satisfied: orjson<4.0.0,>=3.9.14 in /home/jupyter/.local/lib/python3.10/site-packages (from langsmith<0.2.0,>=0.1.0->langchain-community) (3.10.3)\n",
      "Requirement already satisfied: idna<4,>=2.5 in /home/jupyter/.local/lib/python3.10/site-packages (from requests<3,>=2->langchain-community) (2.10)\n",
      "Requirement already satisfied: urllib3<3,>=1.21.1 in /home/jupyter/.local/lib/python3.10/site-packages (from requests<3,>=2->langchain-community) (2.2.1)\n",
      "Requirement already satisfied: certifi>=2017.4.17 in /usr/local/lib/python3.10/dist-packages (from requests<3,>=2->langchain-community) (2023.7.22)\n",
      "Requirement already satisfied: typing-extensions>=4.2.0 in /home/jupyter/.local/lib/python3.10/site-packages (from SQLAlchemy<3,>=1.4->langchain-community) (4.12.2)\n",
      "Requirement already satisfied: greenlet!=0.4.17 in /usr/local/lib/python3.10/dist-packages (from SQLAlchemy<3,>=1.4->langchain-community) (2.0.2)\n",
      "Requirement already satisfied: jsonpointer>=1.9 in /home/jupyter/.local/lib/python3.10/site-packages (from jsonpatch<2.0,>=1.33->langchain-core<0.3.0,>=0.2.0->langchain-community) (2.4)\n",
      "Requirement already satisfied: annotated-types>=0.4.0 in /home/jupyter/.local/lib/python3.10/site-packages (from pydantic<3,>=1->langchain<0.3.0,>=0.2.0->langchain-community) (0.7.0)\n",
      "Requirement already satisfied: pydantic-core==2.18.4 in /home/jupyter/.local/lib/python3.10/site-packages (from pydantic<3,>=1->langchain<0.3.0,>=0.2.0->langchain-community) (2.18.4)\n",
      "Requirement already satisfied: mypy-extensions>=0.3.0 in /home/jupyter/.local/lib/python3.10/site-packages (from typing-inspect<1,>=0.4.0->dataclasses-json<0.7,>=0.5.7->langchain-community) (1.0.0)\n",
      "\n",
      "\u001b[1m[\u001b[0m\u001b[34;49mnotice\u001b[0m\u001b[1;39;49m]\u001b[0m\u001b[39;49m A new release of pip is available: \u001b[0m\u001b[31;49m23.0.1\u001b[0m\u001b[39;49m -> \u001b[0m\u001b[32;49m24.0\u001b[0m\n",
      "\u001b[1m[\u001b[0m\u001b[34;49mnotice\u001b[0m\u001b[1;39;49m]\u001b[0m\u001b[39;49m To update, run: \u001b[0m\u001b[32;49mpython3 -m pip install --upgrade pip\u001b[0m\n",
      "Defaulting to user installation because normal site-packages is not writeable\n",
      "Requirement already satisfied: faiss-cpu in /home/jupyter/.local/lib/python3.10/site-packages (1.8.0)\n",
      "Requirement already satisfied: numpy in /usr/local/lib/python3.10/dist-packages (from faiss-cpu) (1.22.4)\n",
      "\n",
      "\u001b[1m[\u001b[0m\u001b[34;49mnotice\u001b[0m\u001b[1;39;49m]\u001b[0m\u001b[39;49m A new release of pip is available: \u001b[0m\u001b[31;49m23.0.1\u001b[0m\u001b[39;49m -> \u001b[0m\u001b[32;49m24.0\u001b[0m\n",
      "\u001b[1m[\u001b[0m\u001b[34;49mnotice\u001b[0m\u001b[1;39;49m]\u001b[0m\u001b[39;49m To update, run: \u001b[0m\u001b[32;49mpython3 -m pip install --upgrade pip\u001b[0m\n"
     ]
    }
   ],
   "source": [
    "%pip install yandex_chain \n",
    "%pip install -U langchain-community\n",
    "%pip install faiss-cpu"
   ]
  },
  {
   "cell_type": "code",
   "execution_count": 2,
   "id": "e7d12979-e56d-4435-83ab-429649b81a2e",
   "metadata": {
    "execution": {
     "iopub.execute_input": "2024-06-13T17:55:39.264261Z",
     "iopub.status.busy": "2024-06-13T17:55:39.263765Z",
     "iopub.status.idle": "2024-06-13T17:55:49.754483Z",
     "shell.execute_reply": "2024-06-13T17:55:49.753653Z",
     "shell.execute_reply.started": "2024-06-13T17:55:39.264224Z"
    },
    "tags": []
   },
   "outputs": [
    {
     "name": "stdout",
     "output_type": "stream",
     "text": [
      "\u001b[33mWARNING: Skipping jwt as it is not installed.\u001b[0m\u001b[33m\n",
      "\u001b[0mDefaulting to user installation because normal site-packages is not writeable\n",
      "Requirement already satisfied: PyJWT in /home/jupyter/.local/lib/python3.10/site-packages (2.8.0)\n",
      "\n",
      "\u001b[1m[\u001b[0m\u001b[34;49mnotice\u001b[0m\u001b[1;39;49m]\u001b[0m\u001b[39;49m A new release of pip is available: \u001b[0m\u001b[31;49m23.0.1\u001b[0m\u001b[39;49m -> \u001b[0m\u001b[32;49m24.0\u001b[0m\n",
      "\u001b[1m[\u001b[0m\u001b[34;49mnotice\u001b[0m\u001b[1;39;49m]\u001b[0m\u001b[39;49m To update, run: \u001b[0m\u001b[32;49mpython3 -m pip install --upgrade pip\u001b[0m\n",
      "Defaulting to user installation because normal site-packages is not writeable\n",
      "Requirement already satisfied: cryptography in /usr/lib/python3/dist-packages (3.4.8)\n",
      "\n",
      "\u001b[1m[\u001b[0m\u001b[34;49mnotice\u001b[0m\u001b[1;39;49m]\u001b[0m\u001b[39;49m A new release of pip is available: \u001b[0m\u001b[31;49m23.0.1\u001b[0m\u001b[39;49m -> \u001b[0m\u001b[32;49m24.0\u001b[0m\n",
      "\u001b[1m[\u001b[0m\u001b[34;49mnotice\u001b[0m\u001b[1;39;49m]\u001b[0m\u001b[39;49m To update, run: \u001b[0m\u001b[32;49mpython3 -m pip install --upgrade pip\u001b[0m\n"
     ]
    }
   ],
   "source": [
    "%pip uninstall jwt\n",
    "%pip install PyJWT -U\n",
    "%pip install cryptography"
   ]
  },
  {
   "cell_type": "code",
   "execution_count": 3,
   "id": "45483690-86d6-4cff-9334-c5072b8931b0",
   "metadata": {
    "execution": {
     "iopub.execute_input": "2024-06-13T17:55:49.756434Z",
     "iopub.status.busy": "2024-06-13T17:55:49.755574Z",
     "iopub.status.idle": "2024-06-13T17:55:54.823023Z",
     "shell.execute_reply": "2024-06-13T17:55:54.822219Z",
     "shell.execute_reply.started": "2024-06-13T17:55:49.756398Z"
    },
    "tags": []
   },
   "outputs": [
    {
     "name": "stdout",
     "output_type": "stream",
     "text": [
      "Defaulting to user installation because normal site-packages is not writeable\n",
      "Requirement already satisfied: gradio in /home/jupyter/.local/lib/python3.10/site-packages (4.36.1)\n",
      "Requirement already satisfied: aiofiles<24.0,>=22.0 in /home/jupyter/.local/lib/python3.10/site-packages (from gradio) (23.2.1)\n",
      "Requirement already satisfied: altair<6.0,>=4.2.0 in /usr/local/lib/python3.10/dist-packages (from gradio) (4.2.2)\n",
      "Requirement already satisfied: fastapi in /home/jupyter/.local/lib/python3.10/site-packages (from gradio) (0.111.0)\n",
      "Requirement already satisfied: ffmpy in /home/jupyter/.local/lib/python3.10/site-packages (from gradio) (0.3.2)\n",
      "Requirement already satisfied: gradio-client==1.0.1 in /home/jupyter/.local/lib/python3.10/site-packages (from gradio) (1.0.1)\n",
      "Requirement already satisfied: httpx>=0.24.1 in /home/jupyter/.local/lib/python3.10/site-packages (from gradio) (0.27.0)\n",
      "Requirement already satisfied: huggingface-hub>=0.19.3 in /home/jupyter/.local/lib/python3.10/site-packages (from gradio) (0.23.3)\n",
      "Requirement already satisfied: importlib-resources<7.0,>=1.3 in /usr/local/lib/python3.10/dist-packages (from gradio) (6.0.0)\n",
      "Requirement already satisfied: jinja2<4.0 in /usr/local/lib/python3.10/dist-packages (from gradio) (3.1.2)\n",
      "Requirement already satisfied: markupsafe~=2.0 in /usr/local/lib/python3.10/dist-packages (from gradio) (2.1.3)\n",
      "Requirement already satisfied: matplotlib~=3.0 in /usr/local/lib/python3.10/dist-packages (from gradio) (3.7.1)\n",
      "Requirement already satisfied: numpy<3.0,>=1.0 in /usr/local/lib/python3.10/dist-packages (from gradio) (1.22.4)\n",
      "Requirement already satisfied: orjson~=3.0 in /home/jupyter/.local/lib/python3.10/site-packages (from gradio) (3.10.3)\n",
      "Requirement already satisfied: packaging in /home/jupyter/.local/lib/python3.10/site-packages (from gradio) (23.2)\n",
      "Requirement already satisfied: pandas<3.0,>=1.0 in /usr/local/lib/python3.10/dist-packages (from gradio) (1.5.3)\n",
      "Requirement already satisfied: pillow<11.0,>=8.0 in /usr/local/lib/python3.10/dist-packages (from gradio) (9.4.0)\n",
      "Requirement already satisfied: pydantic>=2.0 in /home/jupyter/.local/lib/python3.10/site-packages (from gradio) (2.7.4)\n",
      "Requirement already satisfied: pydub in /home/jupyter/.local/lib/python3.10/site-packages (from gradio) (0.25.1)\n",
      "Requirement already satisfied: python-multipart>=0.0.9 in /home/jupyter/.local/lib/python3.10/site-packages (from gradio) (0.0.9)\n",
      "Requirement already satisfied: pyyaml<7.0,>=5.0 in /usr/local/lib/python3.10/dist-packages (from gradio) (6.0.1)\n",
      "Requirement already satisfied: ruff>=0.2.2 in /home/jupyter/.local/lib/python3.10/site-packages (from gradio) (0.4.8)\n",
      "Requirement already satisfied: semantic-version~=2.0 in /home/jupyter/.local/lib/python3.10/site-packages (from gradio) (2.10.0)\n",
      "Requirement already satisfied: tomlkit==0.12.0 in /home/jupyter/.local/lib/python3.10/site-packages (from gradio) (0.12.0)\n",
      "Requirement already satisfied: typer<1.0,>=0.12 in /home/jupyter/.local/lib/python3.10/site-packages (from gradio) (0.12.3)\n",
      "Requirement already satisfied: typing-extensions~=4.0 in /home/jupyter/.local/lib/python3.10/site-packages (from gradio) (4.12.2)\n",
      "Requirement already satisfied: urllib3~=2.0 in /home/jupyter/.local/lib/python3.10/site-packages (from gradio) (2.2.1)\n",
      "Requirement already satisfied: uvicorn>=0.14.0 in /home/jupyter/.local/lib/python3.10/site-packages (from gradio) (0.30.1)\n",
      "Requirement already satisfied: fsspec in /usr/local/lib/python3.10/dist-packages (from gradio-client==1.0.1->gradio) (2023.6.0)\n",
      "Requirement already satisfied: websockets<12.0,>=10.0 in /home/jupyter/.local/lib/python3.10/site-packages (from gradio-client==1.0.1->gradio) (11.0.3)\n",
      "Requirement already satisfied: entrypoints in /usr/local/lib/python3.10/dist-packages (from altair<6.0,>=4.2.0->gradio) (0.4)\n",
      "Requirement already satisfied: jsonschema>=3.0 in /usr/local/lib/python3.10/dist-packages (from altair<6.0,>=4.2.0->gradio) (4.3.3)\n",
      "Requirement already satisfied: toolz in /usr/local/lib/python3.10/dist-packages (from altair<6.0,>=4.2.0->gradio) (0.12.0)\n",
      "Requirement already satisfied: anyio in /usr/local/lib/python3.10/dist-packages (from httpx>=0.24.1->gradio) (3.7.1)\n",
      "Requirement already satisfied: certifi in /usr/local/lib/python3.10/dist-packages (from httpx>=0.24.1->gradio) (2023.7.22)\n",
      "Requirement already satisfied: httpcore==1.* in /home/jupyter/.local/lib/python3.10/site-packages (from httpx>=0.24.1->gradio) (1.0.5)\n",
      "Requirement already satisfied: idna in /home/jupyter/.local/lib/python3.10/site-packages (from httpx>=0.24.1->gradio) (2.10)\n",
      "Requirement already satisfied: sniffio in /usr/local/lib/python3.10/dist-packages (from httpx>=0.24.1->gradio) (1.3.0)\n",
      "Requirement already satisfied: h11<0.15,>=0.13 in /home/jupyter/.local/lib/python3.10/site-packages (from httpcore==1.*->httpx>=0.24.1->gradio) (0.14.0)\n",
      "Requirement already satisfied: filelock in /usr/local/lib/python3.10/dist-packages (from huggingface-hub>=0.19.3->gradio) (3.12.2)\n",
      "Requirement already satisfied: requests in /home/jupyter/.local/lib/python3.10/site-packages (from huggingface-hub>=0.19.3->gradio) (2.32.3)\n",
      "Requirement already satisfied: tqdm>=4.42.1 in /usr/local/lib/python3.10/dist-packages (from huggingface-hub>=0.19.3->gradio) (4.65.0)\n",
      "Requirement already satisfied: contourpy>=1.0.1 in /usr/local/lib/python3.10/dist-packages (from matplotlib~=3.0->gradio) (1.1.0)\n",
      "Requirement already satisfied: cycler>=0.10 in /usr/local/lib/python3.10/dist-packages (from matplotlib~=3.0->gradio) (0.11.0)\n",
      "Requirement already satisfied: fonttools>=4.22.0 in /usr/local/lib/python3.10/dist-packages (from matplotlib~=3.0->gradio) (4.41.1)\n",
      "Requirement already satisfied: kiwisolver>=1.0.1 in /usr/local/lib/python3.10/dist-packages (from matplotlib~=3.0->gradio) (1.4.4)\n",
      "Requirement already satisfied: pyparsing>=2.3.1 in /usr/local/lib/python3.10/dist-packages (from matplotlib~=3.0->gradio) (3.1.0)\n",
      "Requirement already satisfied: python-dateutil>=2.7 in /usr/local/lib/python3.10/dist-packages (from matplotlib~=3.0->gradio) (2.8.2)\n",
      "Requirement already satisfied: pytz>=2020.1 in /usr/local/lib/python3.10/dist-packages (from pandas<3.0,>=1.0->gradio) (2022.7.1)\n",
      "Requirement already satisfied: annotated-types>=0.4.0 in /home/jupyter/.local/lib/python3.10/site-packages (from pydantic>=2.0->gradio) (0.7.0)\n",
      "Requirement already satisfied: pydantic-core==2.18.4 in /home/jupyter/.local/lib/python3.10/site-packages (from pydantic>=2.0->gradio) (2.18.4)\n",
      "Requirement already satisfied: click>=8.0.0 in /usr/local/lib/python3.10/dist-packages (from typer<1.0,>=0.12->gradio) (8.1.6)\n",
      "Requirement already satisfied: shellingham>=1.3.0 in /home/jupyter/.local/lib/python3.10/site-packages (from typer<1.0,>=0.12->gradio) (1.5.4)\n",
      "Requirement already satisfied: rich>=10.11.0 in /usr/local/lib/python3.10/dist-packages (from typer<1.0,>=0.12->gradio) (13.4.2)\n",
      "Requirement already satisfied: starlette<0.38.0,>=0.37.2 in /home/jupyter/.local/lib/python3.10/site-packages (from fastapi->gradio) (0.37.2)\n",
      "Requirement already satisfied: fastapi-cli>=0.0.2 in /home/jupyter/.local/lib/python3.10/site-packages (from fastapi->gradio) (0.0.4)\n",
      "Requirement already satisfied: ujson!=4.0.2,!=4.1.0,!=4.2.0,!=4.3.0,!=5.0.0,!=5.1.0,>=4.0.1 in /home/jupyter/.local/lib/python3.10/site-packages (from fastapi->gradio) (5.10.0)\n",
      "Requirement already satisfied: email_validator>=2.0.0 in /home/jupyter/.local/lib/python3.10/site-packages (from fastapi->gradio) (2.1.1)\n",
      "Requirement already satisfied: dnspython>=2.0.0 in /home/jupyter/.local/lib/python3.10/site-packages (from email_validator>=2.0.0->fastapi->gradio) (2.6.1)\n",
      "Requirement already satisfied: attrs>=17.4.0 in /usr/local/lib/python3.10/dist-packages (from jsonschema>=3.0->altair<6.0,>=4.2.0->gradio) (23.1.0)\n",
      "Requirement already satisfied: pyrsistent!=0.17.0,!=0.17.1,!=0.17.2,>=0.14.0 in /usr/local/lib/python3.10/dist-packages (from jsonschema>=3.0->altair<6.0,>=4.2.0->gradio) (0.19.3)\n",
      "Requirement already satisfied: six>=1.5 in /usr/lib/python3/dist-packages (from python-dateutil>=2.7->matplotlib~=3.0->gradio) (1.16.0)\n",
      "Requirement already satisfied: markdown-it-py>=2.2.0 in /usr/local/lib/python3.10/dist-packages (from rich>=10.11.0->typer<1.0,>=0.12->gradio) (3.0.0)\n",
      "Requirement already satisfied: pygments<3.0.0,>=2.13.0 in /usr/local/lib/python3.10/dist-packages (from rich>=10.11.0->typer<1.0,>=0.12->gradio) (2.14.0)\n",
      "Requirement already satisfied: exceptiongroup in /usr/local/lib/python3.10/dist-packages (from anyio->httpx>=0.24.1->gradio) (1.1.2)\n",
      "Requirement already satisfied: httptools>=0.5.0 in /home/jupyter/.local/lib/python3.10/site-packages (from uvicorn[standard]>=0.12.0->fastapi->gradio) (0.6.1)\n",
      "Requirement already satisfied: python-dotenv>=0.13 in /home/jupyter/.local/lib/python3.10/site-packages (from uvicorn[standard]>=0.12.0->fastapi->gradio) (1.0.1)\n",
      "Requirement already satisfied: uvloop!=0.15.0,!=0.15.1,>=0.14.0 in /home/jupyter/.local/lib/python3.10/site-packages (from uvicorn[standard]>=0.12.0->fastapi->gradio) (0.19.0)\n",
      "Requirement already satisfied: watchfiles>=0.13 in /home/jupyter/.local/lib/python3.10/site-packages (from uvicorn[standard]>=0.12.0->fastapi->gradio) (0.22.0)\n",
      "Requirement already satisfied: charset-normalizer<4,>=2 in /usr/local/lib/python3.10/dist-packages (from requests->huggingface-hub>=0.19.3->gradio) (2.0.12)\n",
      "Requirement already satisfied: mdurl~=0.1 in /usr/local/lib/python3.10/dist-packages (from markdown-it-py>=2.2.0->rich>=10.11.0->typer<1.0,>=0.12->gradio) (0.1.2)\n",
      "\n",
      "\u001b[1m[\u001b[0m\u001b[34;49mnotice\u001b[0m\u001b[1;39;49m]\u001b[0m\u001b[39;49m A new release of pip is available: \u001b[0m\u001b[31;49m23.0.1\u001b[0m\u001b[39;49m -> \u001b[0m\u001b[32;49m24.0\u001b[0m\n",
      "\u001b[1m[\u001b[0m\u001b[34;49mnotice\u001b[0m\u001b[1;39;49m]\u001b[0m\u001b[39;49m To update, run: \u001b[0m\u001b[32;49mpython3 -m pip install --upgrade pip\u001b[0m\n"
     ]
    }
   ],
   "source": [
    "%pip install gradio"
   ]
  },
  {
   "cell_type": "code",
   "execution_count": 4,
   "id": "160fa6b7-67cf-455e-8aab-152e9184ea9e",
   "metadata": {
    "execution": {
     "iopub.execute_input": "2024-06-13T17:55:54.825650Z",
     "iopub.status.busy": "2024-06-13T17:55:54.824668Z",
     "iopub.status.idle": "2024-06-13T17:56:01.197714Z",
     "shell.execute_reply": "2024-06-13T17:56:01.196915Z",
     "shell.execute_reply.started": "2024-06-13T17:55:54.825607Z"
    },
    "tags": []
   },
   "outputs": [],
   "source": [
    "import requests\n",
    "import json\n",
    "import time\n",
    "import jwt\n",
    "import os\n",
    "from yandex_chain import YandexLLM, YandexEmbeddings, YandexGPTModel\n",
    "from langchain.vectorstores import FAISS\n",
    "from langchain.prompts import ChatPromptTemplate\n",
    "from langchain.schema.output_parser import StrOutputParser\n",
    "from langchain.schema.runnable import RunnablePassthrough\n",
    "import faiss\n",
    "import pickle\n",
    "import pandas as pd\n",
    "import gradio as gr"
   ]
  },
  {
   "cell_type": "code",
   "execution_count": 5,
   "id": "288cf2e6-2960-4740-a555-f47b3470d64d",
   "metadata": {
    "execution": {
     "iopub.execute_input": "2024-06-13T17:56:01.199530Z",
     "iopub.status.busy": "2024-06-13T17:56:01.198764Z",
     "iopub.status.idle": "2024-06-13T17:56:01.247087Z",
     "shell.execute_reply": "2024-06-13T17:56:01.246243Z",
     "shell.execute_reply.started": "2024-06-13T17:56:01.199491Z"
    },
    "tags": []
   },
   "outputs": [],
   "source": [
    "service_account_id = os.environ['service_account_id']\n",
    "key_id = os.environ['key_id']\n",
    "private_key = os.environ['my-API']"
   ]
  },
  {
   "cell_type": "code",
   "execution_count": 7,
   "id": "cb75e1e7-187b-435b-8b9d-51b37e0176c6",
   "metadata": {
    "execution": {
     "iopub.execute_input": "2024-06-13T17:56:31.059084Z",
     "iopub.status.busy": "2024-06-13T17:56:31.058029Z",
     "iopub.status.idle": "2024-06-13T17:56:31.282449Z",
     "shell.execute_reply": "2024-06-13T17:56:31.281694Z",
     "shell.execute_reply.started": "2024-06-13T17:56:31.059045Z"
    },
    "tags": []
   },
   "outputs": [],
   "source": [
    "with open('/home/jupyter/datasphere/project/authorized_key.json', 'r') as f: \n",
    "  obj = f.read() \n",
    "  obj = json.loads(obj)\n",
    "  private_key = obj['private_key']\n",
    "  key_id = obj['id']\n",
    "  service_account_id = obj['service_account_id']\n",
    "\n",
    "now = int(time.time())\n",
    "payload = {\n",
    "        'aud': 'https://iam.api.cloud.yandex.net/iam/v1/tokens',\n",
    "        'iss': service_account_id,\n",
    "        'iat': now,\n",
    "        'exp': now + 3600\n",
    "      }\n",
    "\n",
    "# Формирование JWT.\n",
    "encoded_token = jwt.encode(\n",
    "    payload,\n",
    "    private_key,\n",
    "    algorithm='PS256',\n",
    "    headers={'kid': key_id}\n",
    "  )\n",
    "\n",
    "#Запись ключа в файл\n",
    "with open('jwt_token.txt', 'w') as j:\n",
    "   j.write(encoded_token) \n",
    "   \n",
    "# Вывод в консоль\n",
    "#print(encoded_token)\n"
   ]
  },
  {
   "cell_type": "code",
   "execution_count": 8,
   "id": "4a4d775d-4087-4662-b374-bdabc27d9d72",
   "metadata": {
    "execution": {
     "iopub.execute_input": "2024-06-13T17:56:34.701960Z",
     "iopub.status.busy": "2024-06-13T17:56:34.700356Z",
     "iopub.status.idle": "2024-06-13T17:56:34.787959Z",
     "shell.execute_reply": "2024-06-13T17:56:34.787225Z",
     "shell.execute_reply.started": "2024-06-13T17:56:34.701915Z"
    },
    "tags": []
   },
   "outputs": [],
   "source": [
    "now = int(time.time())\n",
    "payload = {\n",
    "        'aud': 'https://iam.api.cloud.yandex.net/iam/v1/tokens',\n",
    "        'iss': service_account_id,\n",
    "        'iat': now,\n",
    "        'exp': now + 360}\n",
    "\n",
    "# Формирование JWT\n",
    "encoded_token = jwt.encode(\n",
    "    payload,\n",
    "    private_key,\n",
    "    algorithm='PS256',\n",
    "    headers={'kid': key_id})\n",
    "\n",
    "url = 'https://iam.api.cloud.yandex.net/iam/v1/tokens'\n",
    "x = requests.post(url,  headers={'Content-Type': 'application/json'}, json = {'jwt': encoded_token}).json()\n",
    "token = x['iamToken']"
   ]
  },
  {
   "cell_type": "code",
   "execution_count": 16,
   "id": "ff5f4b2b-2343-49eb-9967-8829ce09a954",
   "metadata": {
    "execution": {
     "iopub.execute_input": "2024-06-13T17:59:15.721649Z",
     "iopub.status.busy": "2024-06-13T17:59:15.720537Z",
     "iopub.status.idle": "2024-06-13T17:59:15.754076Z",
     "shell.execute_reply": "2024-06-13T17:59:15.753330Z",
     "shell.execute_reply.started": "2024-06-13T17:59:15.721604Z"
    },
    "tags": []
   },
   "outputs": [],
   "source": [
    "def load_retriever(n):\n",
    "    # Определение имен файлов для загрузки\n",
    "    if n == 0:\n",
    "        combined_index_file = 'faiss_2016_index.index'\n",
    "        combined_pkl_file = 'faiss_2016_index.pkl'\n",
    "    else:\n",
    "        combined_index_file = f'combined_{n}_index.index'\n",
    "        combined_pkl_file = f'combined_{n}_index.pkl'\n",
    "    \n",
    "    # Загрузка индекса из файла\n",
    "    index = faiss.read_index(combined_index_file)\n",
    "\n",
    "    # Загрузка метаданных\n",
    "    with open(combined_pkl_file, \"rb\") as f:\n",
    "        vectorstore = pickle.load(f)\n",
    "\n",
    "    # Обновление индекса в загруженном векторном хранилище\n",
    "    vectorstore.index = index\n",
    "\n",
    "    # Создание и возврат retriever\n",
    "    return vectorstore.as_retriever()\n"
   ]
  },
  {
   "cell_type": "code",
   "execution_count": 17,
   "id": "d9bb1ea9-ebba-4d17-ab84-d3a599f68427",
   "metadata": {
    "execution": {
     "iopub.execute_input": "2024-06-13T17:59:18.454255Z",
     "iopub.status.busy": "2024-06-13T17:59:18.453206Z",
     "iopub.status.idle": "2024-06-13T17:59:18.469719Z",
     "shell.execute_reply": "2024-06-13T17:59:18.469032Z",
     "shell.execute_reply.started": "2024-06-13T17:59:18.454212Z"
    },
    "tags": []
   },
   "outputs": [],
   "source": [
    "def find_matching_indices(data, search_substring):\n",
    "    matching_indice = 0\n",
    "    \n",
    "    for i, doc in enumerate(data):\n",
    "        if search_substring in doc:\n",
    "            matching_indice = i\n",
    "    \n",
    "    return matching_indice\n"
   ]
  },
  {
   "cell_type": "code",
   "execution_count": 18,
   "id": "c8a01af0-8e28-492f-946b-f0828f2d10de",
   "metadata": {
    "execution": {
     "iopub.execute_input": "2024-06-13T17:59:20.566757Z",
     "iopub.status.busy": "2024-06-13T17:59:20.565562Z",
     "iopub.status.idle": "2024-06-13T17:59:20.581812Z",
     "shell.execute_reply": "2024-06-13T17:59:20.581070Z",
     "shell.execute_reply.started": "2024-06-13T17:59:20.566716Z"
    },
    "tags": []
   },
   "outputs": [],
   "source": [
    "def respond_to_query(year, query):\n",
    "    year_to_n = {\n",
    "        2016: 0,\n",
    "        2017: 1,\n",
    "        2018: 1,\n",
    "        2019: 2,\n",
    "        2020: 2,\n",
    "        2021: 2,\n",
    "        2022: 3,\n",
    "        2023: 4\n",
    "    }\n",
    "    \n",
    "    n = year_to_n[year] # Преобразование года в число от 0 до 4\n",
    "\n",
    "    embeddings = YandexEmbeddings(folder_id=os.environ['folder_id'], api_key=os.environ['my-API'])\n",
    "    retriever = load_retriever(n)\n",
    "\n",
    "    template = \"\"\" \n",
    "    Коротко (не более 100 слов) ответь на вопрос, опираясь только на следующий контекст:{context}.\n",
    "    Очень важно: к китайским именам и названиям добавляй их написание на китайском языке, а к японским именам и названиям добавляй их написание на японском языке. \n",
    "    Question: {question}.\n",
    "    \"\"\"\n",
    "    prompt = ChatPromptTemplate.from_template(template)\n",
    "\n",
    "    model = YandexLLM(folder_id=os.environ['folder_id'], api_key=os.environ['my-API'], model=YandexGPTModel.Pro)\n",
    "\n",
    "    chain = (\n",
    "        {\"context\": retriever, \"question\": RunnablePassthrough()} \n",
    "        | prompt \n",
    "        | model \n",
    "        | StrOutputParser()\n",
    "    )\n",
    "    data = pd.read_csv('/home/jupyter/datasphere/project/rag_east_data.csv')\n",
    "\n",
    "    # Создадим пустой список для ссылок\n",
    "    links = []\n",
    "    results = retriever.invoke(query)\n",
    "    # Проходим по каждому результату из 'results'\n",
    "    for result in results:\n",
    "        # Найдем все индексы, где результат есть в столбце 'translated_text'\n",
    "        indices = find_matching_indices(data['translated_text'], str(result)[14:60])\n",
    "        links.append(data['link'][indices])\n",
    "\n",
    "    # Пример использования\n",
    "    res = chain.invoke(query)\n",
    "    final_result = add_sources(res, links)\n",
    "    \n",
    "    return final_result\n"
   ]
  },
  {
   "cell_type": "code",
   "execution_count": 19,
   "id": "4ca7ab20-e538-412c-9373-28215c73a149",
   "metadata": {
    "execution": {
     "iopub.execute_input": "2024-06-13T17:59:22.796594Z",
     "iopub.status.busy": "2024-06-13T17:59:22.795423Z",
     "iopub.status.idle": "2024-06-13T17:59:22.809159Z",
     "shell.execute_reply": "2024-06-13T17:59:22.808494Z",
     "shell.execute_reply.started": "2024-06-13T17:59:22.796550Z"
    },
    "tags": []
   },
   "outputs": [],
   "source": [
    "def add_sources(res, sources):\n",
    "    # Добавить отступ в одну строку\n",
    "    result_with_sources = res + \"\\n\\nВас могут заинтересовать следующие источники:\\n\\n\"\n",
    "\n",
    "    # Пронумерованные ссылки из списка\n",
    "    for i, source in enumerate(sources, 1):\n",
    "        result_with_sources += f\"{i}.[{source}]({source})\\n\\n\"\n",
    "       \n",
    "\n",
    "    return result_with_sources\n",
    "\n"
   ]
  },
  {
   "cell_type": "code",
   "execution_count": null,
   "id": "e23b9550-84e3-49f9-abb1-c764ee0e7a27",
   "metadata": {
    "execution": {
     "iopub.execute_input": "2024-06-13T18:01:20.220925Z",
     "iopub.status.busy": "2024-06-13T18:01:20.219769Z"
    },
    "tags": []
   },
   "outputs": [
    {
     "name": "stdout",
     "output_type": "stream",
     "text": [
      "Running on local URL:  http://127.0.0.1:7860\n",
      "Running on public URL: https://df10762dedf991cf2d.gradio.live\n",
      "\n",
      "This share link expires in 72 hours. For free permanent hosting and GPU upgrades, run `gradio deploy` from Terminal to deploy to Spaces (https://huggingface.co/spaces)\n"
     ]
    },
    {
     "data": {
      "text/html": [
       "<div><iframe src=\"https://df10762dedf991cf2d.gradio.live\" width=\"100%\" height=\"500\" allow=\"autoplay; camera; microphone; clipboard-read; clipboard-write;\" frameborder=\"0\" allowfullscreen></iframe></div>"
      ],
      "text/plain": [
       "<ml_kernel._vendor.IPython.core.display.HTML object>"
      ]
     },
     "metadata": {},
     "output_type": "display_data"
    }
   ],
   "source": [
    "custom_css = \"\"\"\n",
    "<style>\n",
    "    .container {\n",
    "        max-width: 700px;\n",
    "        margin: 0 auto;\n",
    "    }\n",
    "</style>\n",
    "\"\"\"\n",
    "with gr.Blocks() as demo:\n",
    "    # Включаем стили\n",
    "    gr.HTML(custom_css)\n",
    "    \n",
    "    # Разметка содержимого\n",
    "    with gr.Column(elem_classes=\"container\"):\n",
    "        # Заголовок\n",
    "        gr.Markdown(\"# Чатбот-консультант по восточным СМИ (команда 'Серсо')\")\n",
    "        \n",
    "        # Выбор года от 2016 до 2023\n",
    "        year = gr.Slider(2016, 2023, step=1, label=\"Выберите год от 2016 до 2023. База будет проанализирована по этот год включительно:\", value=2016)\n",
    "        \n",
    "        # Ввод вопроса\n",
    "        query = gr.Textbox(label=\"Введите ваш вопрос:\")\n",
    "        \n",
    "        # Кнопка для отправки запроса\n",
    "        answer_btn = gr.Button(\"Отправить запрос\")\n",
    "        \n",
    "        # Место для отображения ответа\n",
    "        output = gr.Markdown(label=\"Ответ бота:\")\n",
    "\n",
    "    # Соединение ввода, клика кнопки и выхода\n",
    "    answer_btn.click(fn=respond_to_query, inputs=[year, query], outputs=output)\n",
    "\n",
    "# Запуск приложения\n",
    "demo.launch(share=True, debug=True)"
   ]
  },
  {
   "cell_type": "code",
   "execution_count": null,
   "id": "07b35fd9-c219-402a-9852-055e6e37a150",
   "metadata": {},
   "outputs": [],
   "source": []
  }
 ],
 "metadata": {
  "kernelspec": {
   "display_name": "DataSphere Kernel",
   "language": "python",
   "name": "python3"
  },
  "language_info": {
   "codemirror_mode": {
    "name": "ipython",
    "version": 3
   },
   "file_extension": ".py",
   "mimetype": "text/x-python",
   "name": "python",
   "nbconvert_exporter": "python",
   "pygments_lexer": "ipython3",
   "version": "3.10.12"
  }
 },
 "nbformat": 4,
 "nbformat_minor": 5
}
